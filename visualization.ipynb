{
 "cells": [
  {
   "cell_type": "code",
   "execution_count": null,
   "id": "1cf3f9fd-0ab0-4a49-87fc-59439ff35862",
   "metadata": {},
   "outputs": [],
   "source": [
    "from torchvision.transforms import ToTensor\n",
    "import rasterio\n",
    "from rasterio.plot import show\n",
    "import numpy as np\n",
    "import matplotlib.pyplot as plt\n",
    "from enum import Enum\n",
    "from glob import glob\n",
    "from typing import Tuple, Dict\n",
    "import json\n",
    "import geopandas as gpd"
   ]
  },
  {
   "cell_type": "code",
   "execution_count": null,
   "id": "15be81f7-4b20-43c5-ab1d-0d4fab6a6017",
   "metadata": {},
   "outputs": [],
   "source": [
    "# image = tiff.imread('/kaggle/input/solafune/train_images/train_images/train_1.tif')\n",
    "def plot_image(path, gdf):\n",
    "    with rasterio.open(path) as image:\n",
    "        image_array = image.read()\n",
    "\n",
    "    print(image_array.shape)\n",
    "    image_array = image_array.transpose(0, 2, 1)\n",
    "        \n",
    "    band_red = image_array[3, :, :]  \n",
    "    band_green = image_array[2, :, :] \n",
    "    band_blue = image_array[1, :, :]  \n",
    "    band_red = np.nan_to_num(band_red, nan=0)\n",
    "    band_green = np.nan_to_num(band_green, nan=0)\n",
    "    band_blue = np.nan_to_num(band_blue, nan=0)\n",
    "    \n",
    "    rgb_image = np.dstack((band_red, band_green, band_blue))\n",
    "    image = (rgb_image - np.min(rgb_image)) / (np.max(rgb_image) - np.min(rgb_image))\n",
    "    image = np.flipud(image)\n",
    "    # Convert to uint8\n",
    "    image = (image * 255).astype(np.uint8)\n",
    "    fig, (ax) = plt.subplots(1,1, figsize=(10, 10))\n",
    "    ax.imshow(image)\n",
    "    # show_anns(masks)\n",
    "    # ax.axis('off')\n",
    "    # gdf.plot(ax=ax, column='class',legend=True,figsize=(20, 20))\n",
    "    gdf.boundary.plot(ax=ax, figsize=(10, 10))\n",
    "    plt.show() "
   ]
  },
  {
   "cell_type": "code",
   "execution_count": null,
   "id": "2d1b562a-5b00-42cb-874c-ddee858d3277",
   "metadata": {},
   "outputs": [],
   "source": [
    "with open(\"./data/train_annotations.json\") as f:\n",
    "    data = json.load(f)\n",
    "\n",
    "json_data = data[\"images\"][0][\"annotations\"]\n",
    "path = \"./data/train_images/train_0.tif\"\n",
    "\n",
    "\n",
    "def convert_to_geojson(data):\n",
    "  \"\"\"\n",
    "  Converts a list of dictionaries in the specified format to GeoJSON\n",
    "\n",
    "  Args:\n",
    "      data: A list of dictionaries containing 'class' and 'segmentation' keys\n",
    "\n",
    "  Returns:\n",
    "      A GeoJSON feature collection\n",
    "  \"\"\"\n",
    "  features = []\n",
    "  for item in data:\n",
    "    polygon = []\n",
    "    for i in range(0, len(item['segmentation']), 2):\n",
    "      polygon.append([item['segmentation'][i], item['segmentation'][i+1]])\n",
    "    features.append({\n",
    "      \"type\": \"Feature\",\n",
    "      \"geometry\": {\n",
    "        \"type\": \"Polygon\",\n",
    "        \"coordinates\": [polygon]\n",
    "      },\n",
    "      \"properties\": {\"class\": item['class']}\n",
    "    })\n",
    "  return { \"type\": \"FeatureCollection\", \"features\": features}\n",
    "\n",
    "\n",
    "# Convert to GeoJSON\n",
    "geojson_data = convert_to_geojson(json_data)\n",
    "gdf = gpd.GeoDataFrame.from_features(geojson_data)"
   ]
  },
  {
   "cell_type": "code",
   "execution_count": null,
   "id": "6e683bad-546a-424d-a9b7-10cb664b0e09",
   "metadata": {},
   "outputs": [],
   "source": [
    "plot_image(path, gdf)"
   ]
  }
 ],
 "metadata": {
  "kernelspec": {
   "display_name": "Python 3 (ipykernel)",
   "language": "python",
   "name": "python3"
  },
  "language_info": {
   "codemirror_mode": {
    "name": "ipython",
    "version": 3
   },
   "file_extension": ".py",
   "mimetype": "text/x-python",
   "name": "python",
   "nbconvert_exporter": "python",
   "pygments_lexer": "ipython3",
   "version": "3.12.8"
  }
 },
 "nbformat": 4,
 "nbformat_minor": 5
}
