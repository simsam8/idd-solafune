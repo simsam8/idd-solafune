{
 "cells": [
  {
   "cell_type": "code",
   "execution_count": null,
   "id": "1cf3f9fd-0ab0-4a49-87fc-59439ff35862",
   "metadata": {},
   "outputs": [],
   "source": [
    "from torchvision.transforms import ToTensor\n",
    "import rasterio\n",
    "from rasterio.plot import show\n",
    "import numpy as np\n",
    "import matplotlib.pyplot as plt\n",
    "from enum import Enum\n",
    "from glob import glob\n",
    "from typing import Tuple, Dict\n",
    "import json\n",
    "import geopandas as gpd\n",
    "import tifffile as tiff"
   ]
  },
  {
   "cell_type": "code",
   "execution_count": null,
   "id": "15be81f7-4b20-43c5-ab1d-0d4fab6a6017",
   "metadata": {},
   "outputs": [],
   "source": [
    "def plot_image(path, gdf):\n",
    "    image_array = tiff.imread(path)\n",
    "        \n",
    "    band_red = image_array[:, :, 3]  \n",
    "    band_green = image_array[:, :, 2] \n",
    "    band_blue = image_array[:, :, 1]  \n",
    "    band_red = np.nan_to_num(band_red, nan=0)\n",
    "    band_green = np.nan_to_num(band_green, nan=0)\n",
    "    band_blue = np.nan_to_num(band_blue, nan=0)\n",
    "    \n",
    "    rgb_image = np.dstack((band_red, band_green, band_blue))\n",
    "    image = (rgb_image - np.min(rgb_image)) / (np.max(rgb_image) - np.min(rgb_image))\n",
    "    # image = np.flipud(image)\n",
    "    # Convert to uint8\n",
    "    image = (image * 255).astype(np.uint8)\n",
    "    fig, (ax1,ax2) = plt.subplots(1,2, figsize=(20, 20))\n",
    "    ax1.imshow(image)\n",
    "    ax2.imshow(image)\n",
    "    gdf.plot(ax=ax1, column='class',legend=True,figsize=(20, 20))\n",
    "    ax1.axis('off')\n",
    "    ax2.axis('off')\n",
    "    plt.show() "
   ]
  },
  {
   "cell_type": "code",
   "execution_count": null,
   "id": "2d1b562a-5b00-42cb-874c-ddee858d3277",
   "metadata": {},
   "outputs": [],
   "source": [
    "with open(\"./data/train_annotations.json\") as f:\n",
    "    data = json.load(f)\n",
    "\n",
    "idx = 50\n",
    "file = f\"train_{idx}.tif\"\n",
    "json_data = None\n",
    "\n",
    "for img in data[\"images\"]:\n",
    "    if img[\"file_name\"] == file:\n",
    "        print(img[\"file_name\"])\n",
    "        json_data = img[\"annotations\"]\n",
    "        break\n",
    "\n",
    "path = f\"./data/train_images/train_{idx}.tif\"\n",
    "\n",
    "\n",
    "def convert_to_geojson(data):\n",
    "  \"\"\"\n",
    "  Converts a list of dictionaries in the specified format to GeoJSON\n",
    "\n",
    "  Args:\n",
    "      data: A list of dictionaries containing 'class' and 'segmentation' keys\n",
    "\n",
    "  Returns:\n",
    "      A GeoJSON feature collection\n",
    "  \"\"\"\n",
    "  features = []\n",
    "  for item in data:\n",
    "    polygon = []\n",
    "    for i in range(0, len(item['segmentation']), 2):\n",
    "      polygon.append([item['segmentation'][i], item['segmentation'][i+1]])\n",
    "    features.append({\n",
    "      \"type\": \"Feature\",\n",
    "      \"geometry\": {\n",
    "        \"type\": \"Polygon\",\n",
    "        \"coordinates\": [polygon]\n",
    "      },\n",
    "      \"properties\": {\"class\": item['class']}\n",
    "    })\n",
    "  return { \"type\": \"FeatureCollection\", \"features\": features}\n",
    "\n",
    "\n",
    "# Convert to GeoJSON\n",
    "geojson_data = convert_to_geojson(json_data)\n",
    "gdf = gpd.GeoDataFrame.from_features(geojson_data)\n",
    "plot_image(path, gdf)"
   ]
  },
  {
   "cell_type": "code",
   "execution_count": null,
   "id": "a899fda2-6d96-4c9c-98b7-d46bfcc1dc44",
   "metadata": {},
   "outputs": [],
   "source": []
  }
 ],
 "metadata": {
  "kernelspec": {
   "display_name": "Python 3 (ipykernel)",
   "language": "python",
   "name": "python3"
  },
  "language_info": {
   "codemirror_mode": {
    "name": "ipython",
    "version": 3
   },
   "file_extension": ".py",
   "mimetype": "text/x-python",
   "name": "python",
   "nbconvert_exporter": "python",
   "pygments_lexer": "ipython3",
   "version": "3.11.11"
  }
 },
 "nbformat": 4,
 "nbformat_minor": 5
}
