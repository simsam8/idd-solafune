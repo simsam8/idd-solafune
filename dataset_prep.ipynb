{
 "cells": [
  {
   "cell_type": "markdown",
   "id": "43e6979f-af5a-4876-824c-8cdf469e0451",
   "metadata": {},
   "source": [
    "Code credit from [here](https://solafune.com/competitions/68ad4759-4686-4bb3-94b8-7063f755b43d?menu=discussion&tab=&topicId=efe1aec6-0050-4214-ae77-9e17f56cddfd&page=1)"
   ]
  },
  {
   "cell_type": "code",
   "execution_count": null,
   "id": "8ed00144-ac28-4f7d-bc4c-d9e32c9a6e15",
   "metadata": {},
   "outputs": [],
   "source": [
    "import json\n",
    "from pathlib import Path\n",
    "\n",
    "import cv2\n",
    "import numpy as np\n",
    "import tifffile\n",
    "from tqdm import tqdm"
   ]
  },
  {
   "cell_type": "code",
   "execution_count": null,
   "id": "d94ea713-a9f3-4639-a351-f3acbe85376d",
   "metadata": {},
   "outputs": [],
   "source": [
    "data_dir = Path(\"./data\")"
   ]
  },
  {
   "cell_type": "code",
   "execution_count": null,
   "id": "b1840f4a-0984-4f06-966a-79a29fd337ee",
   "metadata": {},
   "outputs": [],
   "source": [
    "train_file_names = [f\"train_{i}.tif\" for i in range(176)]  # train_0.tif ~ train_175.tif\n",
    "class_names = [\"grassland_shrubland\", \"logging\", \"mining\", \"plantation\"]\n",
    "\n",
    "with open(data_dir / \"train_annotations.json\", \"r\") as f:\n",
    "    raw_annotations = json.load(f)\n",
    "\n",
    "annotations: dict[str, dict[str, list[list[float]]]] = {}  # file_name -> class_name -> polygons\n",
    "for fn in tqdm(train_file_names):\n",
    "    ann: dict[str, list[list[float]]] = {}  # class_name -> polygons\n",
    "    for class_name in class_names:\n",
    "        ann[class_name] = []\n",
    "\n",
    "    for tmp_img in raw_annotations[\"images\"]:\n",
    "        if tmp_img[\"file_name\"] == fn:\n",
    "            for tmp_ann in tmp_img[\"annotations\"]:\n",
    "                ann[tmp_ann[\"class\"]].append(tmp_ann[\"segmentation\"])\n",
    "\n",
    "    annotations[fn] = ann\n",
    "\n",
    "#print(annotations[\"train_0.tif\"])"
   ]
  },
  {
   "cell_type": "code",
   "execution_count": null,
   "id": "dcfe17c2-b306-431a-a3e0-c4b346eb881b",
   "metadata": {},
   "outputs": [],
   "source": [
    "mask_save_dir = data_dir / \"train_masks\"\n",
    "mask_save_dir.mkdir(parents=True, exist_ok=True)\n",
    "\n",
    "for fn in tqdm(train_file_names):\n",
    "    mask = np.zeros((4, 1024, 1024), dtype=np.uint8)\n",
    "    anns = annotations[fn]\n",
    "    for class_idx, class_name in enumerate(class_names):\n",
    "        polygons = anns[class_name]\n",
    "        cv2.fillPoly(mask[class_idx], [np.array(poly).astype(np.int32).reshape(-1, 2) for poly in polygons], 255)\n",
    "\n",
    "    np.save(mask_save_dir / fn.replace(\".tif\", \".npy\"), mask)"
   ]
  },
  {
   "cell_type": "code",
   "execution_count": null,
   "id": "cc640c14-9f54-429b-9c16-521ed9bc10e1",
   "metadata": {},
   "outputs": [],
   "source": [
    "vis_save_dir = data_dir / \"vis_train\"\n",
    "vis_save_dir.mkdir(parents=True, exist_ok=True)\n",
    "\n",
    "for fn in tqdm(train_file_names):\n",
    "    mask = np.load(mask_save_dir / fn.replace(\".tif\", \".npy\"))  # (4, 1024, 1024)\n",
    "    vis_masks = [np.zeros((1024, 1024, 3), dtype=np.uint8) for _ in range(4)]  # 4: (glassland_shrubland, logging, mining, plantation)\n",
    "    for class_idx, class_name in enumerate(class_names):\n",
    "        vis_masks[class_idx][mask[class_idx] > 0] = np.array([255, 0, 0])  # blue\n",
    "        # put class_name as text on the mask\n",
    "        cv2.putText(vis_masks[class_idx], class_name, (10, 30), cv2.FONT_HERSHEY_SIMPLEX, 1, (255, 255, 255), 2)\n",
    "\n",
    "    vis_image = tifffile.imread(data_dir / \"train_images\" / fn)\n",
    "    vis_image = vis_image[:, :, [1, 2, 3]]  # extract BGR channels (B2, B3, and B4 band of Sentinel-2)\n",
    "    vis_image = np.nan_to_num(vis_image, nan=0)\n",
    "    vis_image = (vis_image / 8).clip(0, 255).astype(np.uint8)\n",
    "\n",
    "    partition = np.ones((1024, 5, 3), dtype=np.uint8) * 255  # white partition\n",
    "    vis = np.concatenate([vis_image, partition, vis_masks[0], partition, vis_masks[1], partition, vis_masks[2], partition, vis_masks[3]], axis=1)\n",
    "    cv2.imwrite(vis_save_dir / fn.replace(\".tif\", \".png\"), vis)"
   ]
  }
 ],
 "metadata": {
  "kernelspec": {
   "display_name": "Python 3 (ipykernel)",
   "language": "python",
   "name": "python3"
  },
  "language_info": {
   "codemirror_mode": {
    "name": "ipython",
    "version": 3
   },
   "file_extension": ".py",
   "mimetype": "text/x-python",
   "name": "python",
   "nbconvert_exporter": "python",
   "pygments_lexer": "ipython3",
   "version": "3.11.11"
  }
 },
 "nbformat": 4,
 "nbformat_minor": 5
}
